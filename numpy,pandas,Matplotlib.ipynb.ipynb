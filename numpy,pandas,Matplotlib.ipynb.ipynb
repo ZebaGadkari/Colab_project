{
  "cells": [
    {
      "cell_type": "markdown",
      "metadata": {
        "id": "kueXchzFvK0N"
      },
      "source": [
        "numpy.array()"
      ]
    },
    {
      "cell_type": "code",
      "execution_count": null,
      "metadata": {
        "colab": {
          "base_uri": "https://localhost:8080/"
        },
        "id": "gs0McAIGvb8S",
        "outputId": "f9c6331e-9ab4-41a6-ffe8-da93374d13f0"
      },
      "outputs": [
        {
          "name": "stdout",
          "output_type": "stream",
          "text": [
            "[1 2 3]\n"
          ]
        }
      ],
      "source": [
        "import numpy as np\n",
        "arr = np.array([1,2,3])\n",
        "print(arr)"
      ]
    },
    {
      "cell_type": "markdown",
      "metadata": {
        "id": "a2tPJ6SHwr91"
      },
      "source": [
        "numpy.arrange()"
      ]
    },
    {
      "cell_type": "code",
      "execution_count": null,
      "metadata": {
        "colab": {
          "base_uri": "https://localhost:8080/"
        },
        "id": "wZgwzLI6vLkc",
        "outputId": "79f9efc7-2565-45e8-a2f8-f1f0aecc79ad"
      },
      "outputs": [
        {
          "name": "stdout",
          "output_type": "stream",
          "text": [
            "[0 2 4 6 8]\n"
          ]
        }
      ],
      "source": [
        "import numpy as np\n",
        "arr = np.arange(0,10,2)\n",
        "print(arr)"
      ]
    },
    {
      "cell_type": "markdown",
      "metadata": {
        "id": "wFIOOhkCxIFg"
      },
      "source": [
        "numpy.linspace()"
      ]
    },
    {
      "cell_type": "code",
      "execution_count": null,
      "metadata": {
        "colab": {
          "base_uri": "https://localhost:8080/"
        },
        "id": "pfj68ycQwvTY",
        "outputId": "0a20283e-e4c4-4cfe-d244-717df0a3b449"
      },
      "outputs": [
        {
          "name": "stdout",
          "output_type": "stream",
          "text": [
            "[0.   0.25 0.5  0.75 1.  ]\n"
          ]
        }
      ],
      "source": [
        "import numpy as np\n",
        "arr = np.linspace(0,1,5)\n",
        "print(arr)\n"
      ]
    },
    {
      "cell_type": "markdown",
      "metadata": {
        "id": "akQjn9g4xTZz"
      },
      "source": [
        "numpy.zeros()"
      ]
    },
    {
      "cell_type": "code",
      "execution_count": null,
      "metadata": {
        "colab": {
          "base_uri": "https://localhost:8080/"
        },
        "id": "zK8AJ-hrxBRD",
        "outputId": "e0b8a8d0-27f6-42d0-b3ee-7888974dd8ed"
      },
      "outputs": [
        {
          "name": "stdout",
          "output_type": "stream",
          "text": [
            "[[0. 0. 0.]\n",
            " [0. 0. 0.]]\n"
          ]
        }
      ],
      "source": [
        "import numpy as np\n",
        "arr = np.zeros((2, 3))\n",
        "print(arr)\n",
        "# Output:\n",
        "# [[0. 0. 0.]\n",
        "#  [0. 0. 0.]]"
      ]
    },
    {
      "cell_type": "markdown",
      "metadata": {
        "id": "uWoxbMSaxcfk"
      },
      "source": [
        "numpy.ones()"
      ]
    },
    {
      "cell_type": "code",
      "execution_count": null,
      "metadata": {
        "colab": {
          "base_uri": "https://localhost:8080/"
        },
        "id": "9sW9l4WVxZYN",
        "outputId": "d5f81ae8-9df8-40c8-bd58-ae86497cd5d6"
      },
      "outputs": [
        {
          "name": "stdout",
          "output_type": "stream",
          "text": [
            "[[1. 1.]\n",
            " [1. 1.]\n",
            " [1. 1.]]\n"
          ]
        }
      ],
      "source": [
        "import numpy as np\n",
        "arr = np.ones((3, 2))\n",
        "print(arr)"
      ]
    },
    {
      "cell_type": "markdown",
      "metadata": {
        "id": "mfLdaSuixmud"
      },
      "source": [
        "numpy.eye()"
      ]
    },
    {
      "cell_type": "code",
      "execution_count": null,
      "metadata": {
        "colab": {
          "base_uri": "https://localhost:8080/"
        },
        "id": "7Ys2GMylxlje",
        "outputId": "b4133c22-83ab-4f94-f156-12314cd01507"
      },
      "outputs": [
        {
          "name": "stdout",
          "output_type": "stream",
          "text": [
            "[[1. 0. 0.]\n",
            " [0. 1. 0.]\n",
            " [0. 0. 1.]]\n"
          ]
        }
      ],
      "source": [
        "import numpy as np\n",
        "arr = np.eye(3)\n",
        "print(arr)\n",
        "\n"
      ]
    },
    {
      "cell_type": "markdown",
      "metadata": {
        "id": "1AviO9jNxz9G"
      },
      "source": [
        "numpy.random.rand()"
      ]
    },
    {
      "cell_type": "code",
      "execution_count": null,
      "metadata": {
        "colab": {
          "base_uri": "https://localhost:8080/"
        },
        "id": "aGOluXjIxy_Q",
        "outputId": "2256da2e-a68d-4202-d0aa-27ada50be5d3"
      },
      "outputs": [
        {
          "name": "stdout",
          "output_type": "stream",
          "text": [
            "[0.52434971 0.84231399 0.83006723]\n"
          ]
        }
      ],
      "source": [
        "import numpy as np\n",
        "arr = np.random.rand(3)\n",
        "print(arr)"
      ]
    },
    {
      "cell_type": "markdown",
      "metadata": {
        "id": "gRQ6KruLx9DY"
      },
      "source": [
        "numpy.random.randn()"
      ]
    },
    {
      "cell_type": "code",
      "execution_count": null,
      "metadata": {
        "colab": {
          "base_uri": "https://localhost:8080/"
        },
        "id": "J2sMDNNZx8N4",
        "outputId": "ec1a3a1c-e472-49d1-df4a-88910deb10e7"
      },
      "outputs": [
        {
          "name": "stdout",
          "output_type": "stream",
          "text": [
            "[1.29408717 0.48263152 0.25204596]\n"
          ]
        }
      ],
      "source": [
        "import numpy as np\n",
        "arr = np.random.randn(3)\n",
        "print(arr)"
      ]
    },
    {
      "cell_type": "markdown",
      "metadata": {
        "id": "Dgvq4FAryjQE"
      },
      "source": [
        "numpy.min(), numpy.max()"
      ]
    },
    {
      "cell_type": "code",
      "execution_count": null,
      "metadata": {
        "colab": {
          "base_uri": "https://localhost:8080/"
        },
        "id": "MnhAB67zygp0",
        "outputId": "72449e21-7618-49e3-a4ec-58329cac1524"
      },
      "outputs": [
        {
          "name": "stdout",
          "output_type": "stream",
          "text": [
            "1 8\n"
          ]
        }
      ],
      "source": [
        "import numpy as np\n",
        "arr = np.array([5, 2, 8, 1, 6])\n",
        "min_val = np.min(arr)\n",
        "max_val = np.max(arr)\n",
        "print(min_val, max_val)"
      ]
    },
    {
      "cell_type": "markdown",
      "metadata": {
        "id": "wvmg3VAkyq8-"
      },
      "source": [
        "numpy.mean(), numpy.median()"
      ]
    },
    {
      "cell_type": "code",
      "execution_count": null,
      "metadata": {
        "colab": {
          "base_uri": "https://localhost:8080/"
        },
        "id": "KpVxV_UoyqZa",
        "outputId": "ebb24e6f-8017-4e1b-98d1-99367caa9281"
      },
      "outputs": [
        {
          "name": "stdout",
          "output_type": "stream",
          "text": [
            "4.4 5.0\n"
          ]
        }
      ],
      "source": [
        "import numpy as np\n",
        "arr = np.array([5, 2, 8, 1, 6])\n",
        "mean_val = np.mean(arr)\n",
        "median_val = np.median(arr)\n",
        "print(mean_val, median_val)"
      ]
    },
    {
      "cell_type": "markdown",
      "metadata": {
        "id": "xN7OI6F9y0Kx"
      },
      "source": []
    },
    {
      "cell_type": "markdown",
      "metadata": {
        "id": "GAnVNhRYy2fE"
      },
      "source": [
        "numpy.sum()"
      ]
    },
    {
      "cell_type": "code",
      "execution_count": null,
      "metadata": {
        "colab": {
          "base_uri": "https://localhost:8080/"
        },
        "id": "8SNcDIxkyx4j",
        "outputId": "6e78861a-77dd-4e15-f887-9e30a8624776"
      },
      "outputs": [
        {
          "name": "stdout",
          "output_type": "stream",
          "text": [
            "15\n"
          ]
        }
      ],
      "source": [
        "import numpy as np\n",
        "arr = np.array([1, 2, 3, 4, 5])\n",
        "sum_val = np.sum(arr)\n",
        "print(sum_val)"
      ]
    },
    {
      "cell_type": "markdown",
      "metadata": {
        "id": "pN_222VJy8L5"
      },
      "source": [
        "numpy.dot(), numpy.matmul()"
      ]
    },
    {
      "cell_type": "code",
      "execution_count": null,
      "metadata": {
        "colab": {
          "base_uri": "https://localhost:8080/"
        },
        "id": "Rlo4rxNCy7iP",
        "outputId": "8e8221fb-5613-45a2-e3eb-e7244d513894"
      },
      "outputs": [
        {
          "name": "stdout",
          "output_type": "stream",
          "text": [
            "[[19 22]\n",
            " [43 50]]\n",
            "[[19 22]\n",
            " [43 50]]\n"
          ]
        }
      ],
      "source": [
        "import numpy as np\n",
        "A = np.array([[1, 2], [3, 4]])\n",
        "B = np.array([[5, 6], [7, 8]])\n",
        "dot_product = np.dot(A, B)\n",
        "matmul_product = np.matmul(A, B)\n",
        "print(dot_product)\n",
        "print(matmul_product)"
      ]
    },
    {
      "cell_type": "markdown",
      "metadata": {
        "id": "62Utc6S4zLa6"
      },
      "source": [
        "numpy.transpose(), numpy.T"
      ]
    },
    {
      "cell_type": "code",
      "execution_count": null,
      "metadata": {
        "colab": {
          "base_uri": "https://localhost:8080/"
        },
        "id": "BBmBopBjzIAu",
        "outputId": "35d37983-22fa-4a68-b77d-c3d89e98815a"
      },
      "outputs": [
        {
          "name": "stdout",
          "output_type": "stream",
          "text": [
            "[[1 3]\n",
            " [2 4]]\n",
            "[[1 3]\n",
            " [2 4]]\n"
          ]
        }
      ],
      "source": [
        "import numpy as np\n",
        "arr = np.array([[1, 2], [3, 4]])\n",
        "transposed = np.transpose(arr)\n",
        "t = arr.T\n",
        "print(transposed)\n",
        "print(t)"
      ]
    },
    {
      "cell_type": "markdown",
      "metadata": {
        "id": "dcNETwexzchX"
      },
      "source": [
        "numpy.reshape()"
      ]
    },
    {
      "cell_type": "code",
      "execution_count": null,
      "metadata": {
        "colab": {
          "base_uri": "https://localhost:8080/"
        },
        "id": "yIXPE2BTzZq_",
        "outputId": "f587fca1-42b1-40e2-c376-3b93dbdb7cb8"
      },
      "outputs": [
        {
          "name": "stdout",
          "output_type": "stream",
          "text": [
            "[[1 2 3]\n",
            " [4 5 6]]\n"
          ]
        }
      ],
      "source": [
        "import numpy as np\n",
        "arr = np.array([1, 2, 3, 4, 5, 6])\n",
        "reshaped = np.reshape(arr, (2, 3))\n",
        "print(reshaped)"
      ]
    },
    {
      "cell_type": "markdown",
      "metadata": {
        "id": "Zd79wv8ozi81"
      },
      "source": [
        "numpy.concatenate()"
      ]
    },
    {
      "cell_type": "code",
      "execution_count": null,
      "metadata": {
        "colab": {
          "base_uri": "https://localhost:8080/"
        },
        "id": "cYWenQQozhuv",
        "outputId": "563d7169-8d01-4c0e-f553-36e7f0749253"
      },
      "outputs": [
        {
          "name": "stdout",
          "output_type": "stream",
          "text": [
            "[1 2 3 4 5 6]\n"
          ]
        }
      ],
      "source": [
        "import numpy as np\n",
        "arr1 = np.array([1, 2, 3])\n",
        "arr2 = np.array([4, 5, 6])\n",
        "concatenated = np.concatenate((arr1, arr2))\n",
        "print(concatenated)"
      ]
    },
    {
      "cell_type": "markdown",
      "metadata": {
        "id": "_-KQ9dQJzrCp"
      },
      "source": [
        "numpy.unique()"
      ]
    },
    {
      "cell_type": "code",
      "execution_count": null,
      "metadata": {
        "colab": {
          "base_uri": "https://localhost:8080/"
        },
        "id": "EHxJu3x-zqX9",
        "outputId": "5f43ee31-3a73-4e8f-b1ce-1fafeddaf1a3"
      },
      "outputs": [
        {
          "name": "stdout",
          "output_type": "stream",
          "text": [
            "[1 2 3 4 5]\n"
          ]
        }
      ],
      "source": [
        "import numpy as np\n",
        "arr = np.array([1, 2, 2, 3, 4, 4, 5])\n",
        "unique_vals = np.unique(arr)\n",
        "print(unique_vals)"
      ]
    },
    {
      "cell_type": "markdown",
      "metadata": {
        "id": "nZq9AXzcz4nK"
      },
      "source": [
        "numpy.where()"
      ]
    },
    {
      "cell_type": "code",
      "execution_count": null,
      "metadata": {
        "colab": {
          "base_uri": "https://localhost:8080/"
        },
        "id": "2mjBeDWGz4EB",
        "outputId": "294f2010-31f5-46c4-82d5-6c1d615453d1"
      },
      "outputs": [
        {
          "name": "stdout",
          "output_type": "stream",
          "text": [
            "(array([2, 3, 4]),)\n"
          ]
        }
      ],
      "source": [
        "import numpy as np\n",
        "arr = np.array([1, 2, 3, 4, 5])\n",
        "indices = np.where(arr > 2)\n",
        "print(indices)"
      ]
    },
    {
      "cell_type": "markdown",
      "metadata": {
        "id": "TWjq5y0zz_76"
      },
      "source": [
        "numpy.save(), numpy.load()"
      ]
    },
    {
      "cell_type": "code",
      "execution_count": null,
      "metadata": {
        "colab": {
          "base_uri": "https://localhost:8080/"
        },
        "id": "I3JK5M64z_Jx",
        "outputId": "d50bdc01-14dc-4f72-bde5-ca3240426b3f"
      },
      "outputs": [
        {
          "name": "stdout",
          "output_type": "stream",
          "text": [
            "[1 2 3 4 5]\n"
          ]
        }
      ],
      "source": [
        "import numpy as np\n",
        "arr = np.array([1, 2, 3, 4, 5])\n",
        "np.save('my_array.npy', arr)\n",
        "loaded_arr = np.load('my_array.npy')\n",
        "print(loaded_arr)"
      ]
    },
    {
      "cell_type": "markdown",
      "metadata": {
        "id": "lJfmJzHt0GQT"
      },
      "source": [
        "#Pandas"
      ]
    },
    {
      "cell_type": "markdown",
      "metadata": {
        "id": "X0cWlpU00IxD"
      },
      "source": [
        "pandas.Series()"
      ]
    },
    {
      "cell_type": "code",
      "execution_count": null,
      "metadata": {
        "colab": {
          "base_uri": "https://localhost:8080/"
        },
        "id": "iIL-XSo23mC2",
        "outputId": "bcf703ff-43f7-4432-9147-24f01b5150d4"
      },
      "outputs": [
        {
          "name": "stdout",
          "output_type": "stream",
          "text": [
            "0    1\n",
            "1    2\n",
            "2    3\n",
            "3    4\n",
            "4    5\n",
            "dtype: int64\n"
          ]
        }
      ],
      "source": [
        "import pandas as pd\n",
        "s = pd.Series([1, 2, 3, 4, 5])\n",
        "print(s)"
      ]
    },
    {
      "cell_type": "markdown",
      "metadata": {
        "id": "ySbRHkxZ35DO"
      },
      "source": [
        "pandas.DataFrame()"
      ]
    },
    {
      "cell_type": "code",
      "execution_count": null,
      "metadata": {
        "colab": {
          "base_uri": "https://localhost:8080/"
        },
        "id": "QAy-M6nU3y69",
        "outputId": "77d38408-b347-49e4-cd41-bfb1f76016c1"
      },
      "outputs": [
        {
          "name": "stdout",
          "output_type": "stream",
          "text": [
            "   A  B\n",
            "0  1  4\n",
            "1  2  5\n",
            "2  3  6\n"
          ]
        }
      ],
      "source": [
        "import pandas as pd\n",
        "df = pd.DataFrame({'A': [1, 2, 3], 'B': [4, 5, 6]})\n",
        "print(df)"
      ]
    },
    {
      "cell_type": "markdown",
      "metadata": {
        "id": "-Ggkgg7u4FHv"
      },
      "source": [
        "pandas.read_csv()"
      ]
    },
    {
      "cell_type": "code",
      "execution_count": null,
      "metadata": {
        "colab": {
          "base_uri": "https://localhost:8080/"
        },
        "id": "6NS-tF4e4JUC",
        "outputId": "58392961-523a-4e2d-d093-7b77166c9d51"
      },
      "outputs": [
        {
          "name": "stdout",
          "output_type": "stream",
          "text": [
            "         Date Category  Value  Count     Status\n",
            "0  2023-01-01        A    100      2  Completed\n",
            "1  2023-01-02        B    150      3  Completed\n",
            "2  2023-01-03        A    200      4  Cancelled\n",
            "3  2023-01-04        C     50      1  Completed\n",
            "4  2023-01-05        B    120      2  Completed\n",
            "5  2023-01-06        A     80      1  Completed\n",
            "6  2023-01-07        C     70      2  Cancelled\n",
            "7  2023-01-08        B    180      4  Completed\n",
            "8  2023-01-09        A    220      3  Completed\n",
            "9  2023-01-10        B    130      2  Completed\n"
          ]
        }
      ],
      "source": [
        "import pandas as pd\n",
        "data = pd.read_csv('data.csv')\n",
        "print(data)"
      ]
    },
    {
      "cell_type": "markdown",
      "metadata": {
        "id": "FvUb75mO4Rbf"
      },
      "source": [
        "pandas.head()"
      ]
    },
    {
      "cell_type": "code",
      "execution_count": null,
      "metadata": {
        "colab": {
          "base_uri": "https://localhost:8080/"
        },
        "id": "1FI7-i9T4Nd1",
        "outputId": "9f9ea9be-f951-4d7e-e40f-248297c2813b"
      },
      "outputs": [
        {
          "name": "stdout",
          "output_type": "stream",
          "text": [
            "         Date Category  Value  Count     Status\n",
            "0  2023-01-01        A    100      2  Completed\n",
            "1  2023-01-02        B    150      3  Completed\n",
            "2  2023-01-03        A    200      4  Cancelled\n",
            "3  2023-01-04        C     50      1  Completed\n",
            "4  2023-01-05        B    120      2  Completed\n"
          ]
        }
      ],
      "source": [
        "import pandas as pd\n",
        "data = pd.read_csv('data.csv')\n",
        "print(data.head())"
      ]
    },
    {
      "cell_type": "markdown",
      "metadata": {
        "id": "U9W9YnbV4auP"
      },
      "source": [
        "pandas.info()"
      ]
    },
    {
      "cell_type": "code",
      "execution_count": null,
      "metadata": {
        "colab": {
          "base_uri": "https://localhost:8080/"
        },
        "id": "kg1uXkHO4ZNB",
        "outputId": "c8ba8971-56f9-4399-f42f-8cc3c8a677fd"
      },
      "outputs": [
        {
          "name": "stdout",
          "output_type": "stream",
          "text": [
            "<class 'pandas.core.frame.DataFrame'>\n",
            "RangeIndex: 10 entries, 0 to 9\n",
            "Data columns (total 5 columns):\n",
            " #   Column    Non-Null Count  Dtype \n",
            "---  ------    --------------  ----- \n",
            " 0   Date      10 non-null     object\n",
            " 1   Category  10 non-null     object\n",
            " 2   Value     10 non-null     int64 \n",
            " 3   Count     10 non-null     int64 \n",
            " 4   Status    10 non-null     object\n",
            "dtypes: int64(2), object(3)\n",
            "memory usage: 528.0+ bytes\n",
            "None\n"
          ]
        }
      ],
      "source": [
        "import pandas as pd\n",
        "data = pd.read_csv('data.csv')\n",
        "print(data.info())"
      ]
    },
    {
      "cell_type": "markdown",
      "metadata": {
        "id": "qPwd-rw64m1H"
      },
      "source": [
        "pandas.shape"
      ]
    },
    {
      "cell_type": "code",
      "execution_count": null,
      "metadata": {
        "colab": {
          "base_uri": "https://localhost:8080/"
        },
        "id": "whfjDjU94kJe",
        "outputId": "d63c44e0-5bf1-4855-ca45-6796c675d67a"
      },
      "outputs": [
        {
          "name": "stdout",
          "output_type": "stream",
          "text": [
            "(10, 5)\n"
          ]
        }
      ],
      "source": [
        "import pandas as pd\n",
        "data = pd.read_csv('data.csv')\n",
        "print(data.shape)"
      ]
    },
    {
      "cell_type": "markdown",
      "metadata": {
        "id": "n6Nr3I_K4yOY"
      },
      "source": [
        "pandas.columns"
      ]
    },
    {
      "cell_type": "code",
      "execution_count": null,
      "metadata": {
        "colab": {
          "base_uri": "https://localhost:8080/"
        },
        "id": "_2Fwry0J4zJ5",
        "outputId": "d6223173-2ff1-4008-e30a-c07768985545"
      },
      "outputs": [
        {
          "name": "stdout",
          "output_type": "stream",
          "text": [
            "Index(['Date', 'Category', 'Value', 'Count', 'Status'], dtype='object')\n"
          ]
        }
      ],
      "source": [
        "import pandas as pd\n",
        "data = pd.read_csv('data.csv')\n",
        "print(data.columns)"
      ]
    },
    {
      "cell_type": "markdown",
      "metadata": {
        "id": "VBl1CL2N428_"
      },
      "source": [
        "pandas.index"
      ]
    },
    {
      "cell_type": "code",
      "execution_count": null,
      "metadata": {
        "colab": {
          "base_uri": "https://localhost:8080/"
        },
        "id": "qV5d2bsk46MN",
        "outputId": "3e07ed80-b9a3-415e-ab3a-e44f031566f4"
      },
      "outputs": [
        {
          "name": "stdout",
          "output_type": "stream",
          "text": [
            "RangeIndex(start=0, stop=10, step=1)\n"
          ]
        }
      ],
      "source": [
        "import pandas as pd\n",
        "data = pd.read_csv('data.csv')\n",
        "print(data.index)"
      ]
    },
    {
      "cell_type": "markdown",
      "metadata": {
        "id": "tgZVv2vF5KNu"
      },
      "source": [
        "pandas.loc[]"
      ]
    },
    {
      "cell_type": "code",
      "execution_count": null,
      "metadata": {
        "colab": {
          "base_uri": "https://localhost:8080/"
        },
        "id": "c1xF8P9j5I8O",
        "outputId": "e2826686-7560-4a70-bd14-a94f1fdafb48"
      },
      "outputs": [
        {
          "name": "stdout",
          "output_type": "stream",
          "text": [
            "Date        2023-01-01\n",
            "Category             A\n",
            "Value              100\n",
            "Count                2\n",
            "Status       Completed\n",
            "Name: 0, dtype: object\n"
          ]
        }
      ],
      "source": [
        "import pandas as pd\n",
        "data = pd.read_csv('data.csv')\n",
        "print(data.loc[0])"
      ]
    },
    {
      "cell_type": "markdown",
      "metadata": {
        "id": "Gt20P7HN5PNc"
      },
      "source": [
        "pandas.iloc[]"
      ]
    },
    {
      "cell_type": "code",
      "execution_count": null,
      "metadata": {
        "colab": {
          "base_uri": "https://localhost:8080/"
        },
        "id": "r5Rp12US5U_H",
        "outputId": "3e0f97e6-a3bb-4372-8ff0-0e1f302f8e5f"
      },
      "outputs": [
        {
          "name": "stdout",
          "output_type": "stream",
          "text": [
            "Date        2023-01-01\n",
            "Category             A\n",
            "Value              100\n",
            "Count                2\n",
            "Status       Completed\n",
            "Name: 0, dtype: object\n"
          ]
        }
      ],
      "source": [
        "import pandas as pd\n",
        "data = pd.read_csv('data.csv')\n",
        "print(data.iloc[0])"
      ]
    },
    {
      "cell_type": "markdown",
      "metadata": {
        "id": "mYXk7mOB5kIT"
      },
      "source": [
        "pandas.isnull()"
      ]
    },
    {
      "cell_type": "code",
      "execution_count": null,
      "metadata": {
        "colab": {
          "base_uri": "https://localhost:8080/"
        },
        "id": "-SgTYZyc5jDr",
        "outputId": "20c80e03-d0b1-4149-a916-58c562b8aa1b"
      },
      "outputs": [
        {
          "name": "stdout",
          "output_type": "stream",
          "text": [
            "    Date  Category  Value  Count  Status\n",
            "0  False     False  False  False   False\n",
            "1  False     False  False  False   False\n",
            "2  False     False  False  False   False\n",
            "3  False     False  False  False   False\n",
            "4  False     False  False  False   False\n",
            "5  False     False  False  False   False\n",
            "6  False     False  False  False   False\n",
            "7  False     False  False  False   False\n",
            "8  False     False  False  False   False\n",
            "9  False     False  False  False   False\n"
          ]
        }
      ],
      "source": [
        "import pandas as pd\n",
        "data = pd.read_csv('data.csv')\n",
        "print(data.isnull())"
      ]
    },
    {
      "cell_type": "markdown",
      "metadata": {
        "id": "m8IvHOoq5w3o"
      },
      "source": [
        "pandas.notnull()"
      ]
    },
    {
      "cell_type": "code",
      "execution_count": null,
      "metadata": {
        "colab": {
          "base_uri": "https://localhost:8080/"
        },
        "id": "kYIy8W8v5tRJ",
        "outputId": "584f40b6-26fb-4b1b-c9d1-6fa61d0baf33"
      },
      "outputs": [
        {
          "name": "stdout",
          "output_type": "stream",
          "text": [
            "   Date  Category  Value  Count  Status\n",
            "0  True      True   True   True    True\n",
            "1  True      True   True   True    True\n",
            "2  True      True   True   True    True\n",
            "3  True      True   True   True    True\n",
            "4  True      True   True   True    True\n",
            "5  True      True   True   True    True\n",
            "6  True      True   True   True    True\n",
            "7  True      True   True   True    True\n",
            "8  True      True   True   True    True\n",
            "9  True      True   True   True    True\n"
          ]
        }
      ],
      "source": [
        "import pandas as pd\n",
        "data = pd.read_csv('data.csv')\n",
        "print(data.notnull())"
      ]
    },
    {
      "cell_type": "markdown",
      "metadata": {
        "id": "RxmgKiMc5406"
      },
      "source": [
        "pandas.drop()"
      ]
    },
    {
      "cell_type": "code",
      "execution_count": null,
      "metadata": {
        "colab": {
          "base_uri": "https://localhost:8080/"
        },
        "id": "3c43S1FC6HIN",
        "outputId": "902daf72-f26a-47ad-e567-c839afead1cd"
      },
      "outputs": [
        {
          "name": "stdout",
          "output_type": "stream",
          "text": [
            "  Category  Value  Count     Status\n",
            "0        A    100      2  Completed\n",
            "1        B    150      3  Completed\n",
            "2        A    200      4  Cancelled\n",
            "3        C     50      1  Completed\n",
            "4        B    120      2  Completed\n",
            "5        A     80      1  Completed\n",
            "6        C     70      2  Cancelled\n",
            "7        B    180      4  Completed\n",
            "8        A    220      3  Completed\n",
            "9        B    130      2  Completed\n"
          ]
        }
      ],
      "source": [
        "import pandas as pd\n",
        "data = pd.read_csv('data.csv')\n",
        "new_data = data.drop(columns=['Date'])\n",
        "print(new_data)"
      ]
    },
    {
      "cell_type": "markdown",
      "metadata": {
        "id": "t24m-DW97lV2"
      },
      "source": [
        "pandas.apply()"
      ]
    },
    {
      "cell_type": "code",
      "execution_count": null,
      "metadata": {
        "id": "BOTbczU47oxw"
      },
      "outputs": [],
      "source": []
    },
    {
      "cell_type": "code",
      "execution_count": null,
      "metadata": {
        "colab": {
          "base_uri": "https://localhost:8080/"
        },
        "id": "4o608jFS7dfS",
        "outputId": "8c13aebd-ccf0-4f44-c847-26f54db26c00"
      },
      "outputs": [
        {
          "name": "stdout",
          "output_type": "stream",
          "text": [
            "0    200\n",
            "1    300\n",
            "2    400\n",
            "3    100\n",
            "4    240\n",
            "5    160\n",
            "6    140\n",
            "7    360\n",
            "8    440\n",
            "9    260\n",
            "Name: Value, dtype: int64\n"
          ]
        }
      ],
      "source": [
        "import pandas as pd\n",
        "data = pd.read_csv('data.csv')\n",
        "result = data['Value'].apply(lambda x: x * 2)\n",
        "print(result)"
      ]
    },
    {
      "cell_type": "markdown",
      "metadata": {
        "id": "rVhWvisQ7210"
      },
      "source": [
        "pandas.sort_values()"
      ]
    },
    {
      "cell_type": "code",
      "execution_count": null,
      "metadata": {
        "colab": {
          "base_uri": "https://localhost:8080/"
        },
        "id": "m1N2QjB97vXD",
        "outputId": "74951c3b-3004-4bf4-c7c0-bea8dc86618a"
      },
      "outputs": [
        {
          "name": "stdout",
          "output_type": "stream",
          "text": [
            "         Date Category  Value  Count     Status\n",
            "8  2023-01-09        A    220      3  Completed\n",
            "2  2023-01-03        A    200      4  Cancelled\n",
            "7  2023-01-08        B    180      4  Completed\n",
            "1  2023-01-02        B    150      3  Completed\n",
            "9  2023-01-10        B    130      2  Completed\n",
            "4  2023-01-05        B    120      2  Completed\n",
            "0  2023-01-01        A    100      2  Completed\n",
            "5  2023-01-06        A     80      1  Completed\n",
            "6  2023-01-07        C     70      2  Cancelled\n",
            "3  2023-01-04        C     50      1  Completed\n"
          ]
        }
      ],
      "source": [
        "import pandas as pd\n",
        "data = pd.read_csv('data.csv')\n",
        "sorted_data = data.sort_values(by='Value', ascending=False)\n",
        "print(sorted_data)\n"
      ]
    },
    {
      "cell_type": "markdown",
      "metadata": {
        "id": "_mDrhrgk7_b2"
      },
      "source": [
        "pandas.sort_index()"
      ]
    },
    {
      "cell_type": "code",
      "execution_count": null,
      "metadata": {
        "colab": {
          "base_uri": "https://localhost:8080/"
        },
        "id": "Buysee6y8GTl",
        "outputId": "fb00341c-1522-43d4-e6dd-f7c4c8a86445"
      },
      "outputs": [
        {
          "name": "stdout",
          "output_type": "stream",
          "text": [
            "         Date Category  Value  Count     Status\n",
            "0  2023-01-01        A    100      2  Completed\n",
            "1  2023-01-02        B    150      3  Completed\n",
            "2  2023-01-03        A    200      4  Cancelled\n",
            "3  2023-01-04        C     50      1  Completed\n",
            "4  2023-01-05        B    120      2  Completed\n",
            "5  2023-01-06        A     80      1  Completed\n",
            "6  2023-01-07        C     70      2  Cancelled\n",
            "7  2023-01-08        B    180      4  Completed\n",
            "8  2023-01-09        A    220      3  Completed\n",
            "9  2023-01-10        B    130      2  Completed\n"
          ]
        }
      ],
      "source": [
        "import pandas as pd\n",
        "data = pd.read_csv('data.csv')\n",
        "sorted_by_index = data.sort_index()\n",
        "print(sorted_by_index)"
      ]
    },
    {
      "cell_type": "markdown",
      "metadata": {
        "id": "r1GyXmst8lUV"
      },
      "source": [
        "pandas.rename()"
      ]
    },
    {
      "cell_type": "code",
      "execution_count": null,
      "metadata": {
        "colab": {
          "base_uri": "https://localhost:8080/"
        },
        "id": "4EzXprcw8ixR",
        "outputId": "d19db1fe-e4b2-4bec-8b0e-d6ec6d4b079e"
      },
      "outputs": [
        {
          "name": "stdout",
          "output_type": "stream",
          "text": [
            "         Date Category  prize  Count     Status\n",
            "0  2023-01-01        A    100      2  Completed\n",
            "1  2023-01-02        B    150      3  Completed\n",
            "2  2023-01-03        A    200      4  Cancelled\n",
            "3  2023-01-04        C     50      1  Completed\n",
            "4  2023-01-05        B    120      2  Completed\n",
            "5  2023-01-06        A     80      1  Completed\n",
            "6  2023-01-07        C     70      2  Cancelled\n",
            "7  2023-01-08        B    180      4  Completed\n",
            "8  2023-01-09        A    220      3  Completed\n",
            "9  2023-01-10        B    130      2  Completed\n"
          ]
        }
      ],
      "source": [
        "import pandas as pd\n",
        "data = pd.read_csv('data.csv')\n",
        "renamed = data.rename(columns={'Value': 'prize'})\n",
        "print(renamed)"
      ]
    },
    {
      "cell_type": "markdown",
      "metadata": {
        "id": "lwgYYv7y9LPz"
      },
      "source": [
        "pandas.plot()"
      ]
    },
    {
      "cell_type": "code",
      "execution_count": null,
      "metadata": {
        "colab": {
          "base_uri": "https://localhost:8080/",
          "height": 449
        },
        "id": "291cMLd69I1U",
        "outputId": "e51efac0-fb89-4c87-b4ee-f829e45bae7d"
      },
      "outputs": [
        {
          "data": {
            "image/png": "[encoded data removed]",
            "text/plain": [
              "<Figure size 640x480 with 1 Axes>"
            ]
          },
          "metadata": {},
          "output_type": "display_data"
        }
      ],
      "source": [
        "import pandas as pd\n",
        "import matplotlib.pyplot as plt\n",
        "data = pd.read_csv('data.csv')\n",
        "data.plot(x='Date', y='Value')\n",
        "plt.show()"
      ]
    },
    {
      "cell_type": "markdown",
      "metadata": {
        "id": "FtTgG3OL-IPL"
      },
      "source": [
        "pandas.pivot_table()"
      ]
    },
    {
      "cell_type": "code",
      "execution_count": null,
      "metadata": {
        "colab": {
          "base_uri": "https://localhost:8080/"
        },
        "id": "8HU3rpFd9Som",
        "outputId": "15cafc1b-fa98-4774-a3b2-a3151cbb7fb7"
      },
      "outputs": [
        {
          "name": "stdout",
          "output_type": "stream",
          "text": [
            "          Value\n",
            "Category       \n",
            "A           150\n",
            "B           145\n",
            "C            60\n"
          ]
        }
      ],
      "source": [
        "import pandas as pd\n",
        "data = pd.read_csv('data.csv')\n",
        "pivot_table = pd.pivot_table(data, values='Value', index='Category', aggfunc='mean')\n",
        "print(pivot_table)"
      ]
    },
    {
      "cell_type": "markdown",
      "metadata": {
        "id": "wJUsh_f1-TXC"
      },
      "source": [
        "Matplotlib\n"
      ]
    },
    {
      "cell_type": "markdown",
      "metadata": {
        "id": "luGtpmfYBhFz"
      },
      "source": [
        "matplotlib.pyplot.plot()"
      ]
    },
    {
      "cell_type": "code",
      "execution_count": null,
      "metadata": {
        "colab": {
          "base_uri": "https://localhost:8080/",
          "height": 472
        },
        "id": "oJqYpabVBhwa",
        "outputId": "9966829d-1960-4f90-ad86-d78d440b5582"
      },
      "outputs": [
        {
          "data": {
            "image/png": "[encoded data removed]",
            "text/plain": [
              "<Figure size 640x480 with 1 Axes>"
            ]
          },
          "metadata": {},
          "output_type": "display_data"
        }
      ],
      "source": [
        "import matplotlib.pyplot as plt\n",
        "\n",
        "x = [1, 2, 3, 4, 5]\n",
        "y = [10, 20, 15, 25, 30]\n",
        "\n",
        "plt.plot(x, y)\n",
        "plt.xlabel('X-axis')\n",
        "plt.ylabel('Y-axis')\n",
        "plt.title('Simple Line Plot')\n",
        "plt.show()\n"
      ]
    },
    {
      "cell_type": "markdown",
      "metadata": {
        "id": "R9_fDfpQBzQf"
      },
      "source": [
        "matplotlib.pyplot.scatter()"
      ]
    },
    {
      "cell_type": "code",
      "execution_count": null,
      "metadata": {
        "colab": {
          "base_uri": "https://localhost:8080/",
          "height": 472
        },
        "id": "xaQb4mwoBx52",
        "outputId": "2da9ef2b-1ced-4d7e-8223-b9f0e0c96c76"
      },
      "outputs": [
        {
          "data": {
            "image/png": "[encoded data removed]",
            "text/plain": [
              "<Figure size 640x480 with 1 Axes>"
            ]
          },
          "metadata": {},
          "output_type": "display_data"
        }
      ],
      "source": [
        "import matplotlib.pyplot as plt\n",
        "\n",
        "x = [1, 2, 3, 4, 5]\n",
        "y = [10, 20, 15, 25, 30]\n",
        "\n",
        "plt.scatter(x, y, color='red', marker='o')\n",
        "plt.xlabel('X-axis')\n",
        "plt.ylabel('Y-axis')\n",
        "plt.title('Scatter Plot')\n",
        "plt.show()\n"
      ]
    },
    {
      "cell_type": "markdown",
      "metadata": {
        "id": "1nZk2dYOB5kE"
      },
      "source": [
        "matplotlib.pyplot.bar()"
      ]
    },
    {
      "cell_type": "code",
      "execution_count": null,
      "metadata": {
        "colab": {
          "base_uri": "https://localhost:8080/",
          "height": 472
        },
        "id": "lSe65xoAB7HQ",
        "outputId": "6859891d-d111-49e9-f9a6-6942c81d6b4d"
      },
      "outputs": [
        {
          "data": {
            "image/png": "[encoded data removed]",
            "text/plain": [
              "<Figure size 640x480 with 1 Axes>"
            ]
          },
          "metadata": {},
          "output_type": "display_data"
        }
      ],
      "source": [
        "import matplotlib.pyplot as plt\n",
        "\n",
        "categories = ['A', 'B', 'C', 'D']\n",
        "values = [15, 20, 100, 25]\n",
        "\n",
        "plt.bar(categories, values, color='blue')\n",
        "plt.xlabel('Categories')\n",
        "plt.ylabel('Values')\n",
        "plt.title('Bar Plot')\n",
        "plt.show()\n"
      ]
    },
    {
      "cell_type": "markdown",
      "metadata": {
        "id": "csfiLONGCEbu"
      },
      "source": [
        "matplotlib.pyplot.hist()"
      ]
    },
    {
      "cell_type": "code",
      "execution_count": null,
      "metadata": {
        "colab": {
          "base_uri": "https://localhost:8080/",
          "height": 472
        },
        "id": "fprhm0GPCBXU",
        "outputId": "fe41c2b9-b196-46dd-fce1-9d982eac8051"
      },
      "outputs": [
        {
          "data": {
            "image/png": "[encoded data removed]",
            "text/plain": [
              "<Figure size 640x480 with 1 Axes>"
            ]
          },
          "metadata": {},
          "output_type": "display_data"
        }
      ],
      "source": [
        "import matplotlib.pyplot as plt\n",
        "\n",
        "data = [10, 15, 20, 25, 30, 35, 40]\n",
        "\n",
        "plt.hist(data, bins=5, color='green')\n",
        "plt.xlabel('Values')\n",
        "plt.ylabel('Frequency')\n",
        "plt.title('Histogram')\n",
        "plt.show()\n"
      ]
    },
    {
      "cell_type": "markdown",
      "metadata": {
        "id": "rmzVZqJwCMuC"
      },
      "source": [
        "matplotlib.pyplot.boxplot()"
      ]
    },
    {
      "cell_type": "code",
      "execution_count": null,
      "metadata": {
        "colab": {
          "base_uri": "https://localhost:8080/",
          "height": 452
        },
        "id": "sO8-BafYCLEq",
        "outputId": "4908e082-0986-40a8-e20c-914272fa47a8"
      },
      "outputs": [
        {
          "data": {
            "image/png": "[encoded data removed]",
            "text/plain": [
              "<Figure size 640x480 with 1 Axes>"
            ]
          },
          "metadata": {},
          "output_type": "display_data"
        }
      ],
      "source": [
        "import matplotlib.pyplot as plt\n",
        "\n",
        "data = [10, 15, 20, 25, 30, 35, 40]\n",
        "\n",
        "plt.boxplot(data)\n",
        "plt.ylabel('Values')\n",
        "plt.title('Box Plot')\n",
        "plt.show()"
      ]
    },
    {
      "cell_type": "markdown",
      "metadata": {
        "id": "-DuSLHLaCU7k"
      },
      "source": [
        "matplotlib.pyplot.pie()"
      ]
    },
    {
      "cell_type": "code",
      "execution_count": null,
      "metadata": {
        "colab": {
          "base_uri": "https://localhost:8080/",
          "height": 428
        },
        "id": "qii4qdqyCSuc",
        "outputId": "0be06782-7c98-47a8-fd06-27234b31902d"
      },
      "outputs": [
        {
          "data": {
            "image/png": "[encoded data removed]",
            "text/plain": [
              "<Figure size 640x480 with 1 Axes>"
            ]
          },
          "metadata": {},
          "output_type": "display_data"
        }
      ],
      "source": [
        "import matplotlib.pyplot as plt\n",
        "\n",
        "labels = ['A', 'B', 'C', 'D']\n",
        "sizes = [15, 20, 10, 25]\n",
        "\n",
        "plt.pie(sizes, labels=labels, autopct='%1.1f%%', colors=['red', 'green', 'blue', 'yellow'])\n",
        "plt.title('Pie Chart')\n",
        "plt.show()\n"
      ]
    },
    {
      "cell_type": "markdown",
      "metadata": {
        "id": "T9yE92VRCbQX"
      },
      "source": [
        "matplotlib.pyplot.imshow()"
      ]
    },
    {
      "cell_type": "code",
      "execution_count": null,
      "metadata": {
        "colab": {
          "base_uri": "https://localhost:8080/",
          "height": 452
        },
        "id": "H0Ge8YJjCeBc",
        "outputId": "b2cd9bfc-d291-4249-bf99-65addc48deb9"
      },
      "outputs": [
        {
          "data": {
            "image/png": "[encoded data removed]",
            "text/plain": [
              "<Figure size 640x480 with 2 Axes>"
            ]
          },
          "metadata": {},
          "output_type": "display_data"
        }
      ],
      "source": [
        "import matplotlib.pyplot as plt\n",
        "import numpy as np\n",
        "\n",
        "data = np.random.rand(5, 5)\n",
        "plt.imshow(data, cmap='viridis')\n",
        "plt.colorbar()\n",
        "plt.title('Heatmap')\n",
        "plt.show()\n"
      ]
    },
    {
      "cell_type": "markdown",
      "metadata": {
        "id": "tID7w-JxCjeP"
      },
      "source": [
        "matplotlib.pyplot.subplot()"
      ]
    },
    {
      "cell_type": "code",
      "execution_count": null,
      "metadata": {
        "colab": {
          "base_uri": "https://localhost:8080/",
          "height": 487
        },
        "id": "m3YdJvN9CiVN",
        "outputId": "407d68ad-f4ef-493d-9256-c148e7584ea6"
      },
      "outputs": [
        {
          "data": {
            "image/png": "[encoded data removed]",
            "text/plain": [
              "<Figure size 640x480 with 2 Axes>"
            ]
          },
          "metadata": {},
          "output_type": "display_data"
        }
      ],
      "source": [
        "import matplotlib.pyplot as plt\n",
        "\n",
        "x = [1, 2, 3, 4, 5]\n",
        "y1 = [10, 20, 15, 25, 30]\n",
        "y2 = [5, 10, 7, 12, 15]\n",
        "\n",
        "plt.subplot(1, 2, 1)\n",
        "plt.plot(x, y1)\n",
        "plt.title('Subplot 1')\n",
        "\n",
        "plt.subplot(1, 2, 2)\n",
        "plt.plot(x, y2)\n",
        "plt.title('Subplot 2')\n",
        "\n",
        "plt.tight_layout()\n",
        "plt.show()\n"
      ]
    }
  ],
  "metadata": {
    "colab": {
      "provenance": []
    },
    "kernelspec": {
      "display_name": "Python 3",
      "name": "python3"
    },
    "language_info": {
      "name": "python"
    }
  },
  "nbformat": 4,
  "nbformat_minor": 0
}
